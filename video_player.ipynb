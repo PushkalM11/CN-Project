{
 "cells": [
  {
   "cell_type": "code",
   "execution_count": 1,
   "metadata": {},
   "outputs": [],
   "source": [
    "import cv2\n",
    "import matplotlib.pyplot as plt\n",
    "from mpl_toolkits.mplot3d import Axes3D"
   ]
  },
  {
   "cell_type": "code",
   "execution_count": 1,
   "metadata": {},
   "outputs": [
    {
     "name": "stdout",
     "output_type": "stream",
     "text": [
      "Interrupt\n"
     ]
    },
    {
     "ename": "NameError",
     "evalue": "name 'plt' is not defined",
     "output_type": "error",
     "traceback": [
      "\u001b[1;31m---------------------------------------------------------------------------\u001b[0m",
      "\u001b[1;31mNameError\u001b[0m                                 Traceback (most recent call last)",
      "\u001b[1;32mf:\\MATERIAL\\Computer_Networks\\project\\video_player.ipynb Cell 2\u001b[0m line \u001b[0;36m6\n\u001b[0;32m      <a href='vscode-notebook-cell:/f%3A/MATERIAL/Computer_Networks/project/video_player.ipynb#W1sZmlsZQ%3D%3D?line=3'>4</a>\u001b[0m focused_frames \u001b[39m=\u001b[39m clip\u001b[39m.\u001b[39mpreview()\n\u001b[0;32m      <a href='vscode-notebook-cell:/f%3A/MATERIAL/Computer_Networks/project/video_player.ipynb#W1sZmlsZQ%3D%3D?line=4'>5</a>\u001b[0m \u001b[39m#write a line clsoe the window\u001b[39;00m\n\u001b[1;32m----> <a href='vscode-notebook-cell:/f%3A/MATERIAL/Computer_Networks/project/video_player.ipynb#W1sZmlsZQ%3D%3D?line=5'>6</a>\u001b[0m plt\u001b[39m.\u001b[39mclose()\n",
      "\u001b[1;31mNameError\u001b[0m: name 'plt' is not defined"
     ]
    }
   ],
   "source": [
    "from moviepy.editor import VideoFileClip\n",
    "from moviepy.video.io.ffmpeg_writer import FFMPEG_VideoWriter\n",
    "clip = VideoFileClip(\"vv.3gp\")\n",
    "focused_frames = clip.preview()\n",
    "#write a line clsoe the window\n",
    "plt.close()"
   ]
  },
  {
   "cell_type": "code",
   "execution_count": 3,
   "metadata": {},
   "outputs": [
    {
     "name": "stdout",
     "output_type": "stream",
     "text": [
      "[{'time': 5.0, 'position': (90, 94), 'color': array([40, 53, 54], dtype=uint8)}, {'time': 6.133333333333333, 'position': (74, 58), 'color': array([190, 185, 184], dtype=uint8)}, {'time': 7.333333333333333, 'position': (150, 8), 'color': array([122, 143, 162], dtype=uint8)}, {'time': 8.666666666666666, 'position': (25, 26), 'color': array([127, 149, 165], dtype=uint8)}, {'time': 9.866666666666667, 'position': (22, 113), 'color': array([31, 37, 56], dtype=uint8)}, {'time': 11.466666666666667, 'position': (167, 128), 'color': array([30, 39, 39], dtype=uint8)}]\n"
     ]
    },
    {
     "ename": "",
     "evalue": "",
     "output_type": "error",
     "traceback": [
      "\u001b[1;31mThe Kernel crashed while executing code in the the current cell or a previous cell. Please review the code in the cell(s) to identify a possible cause of the failure. Click <a href='https://aka.ms/vscodeJupyterKernelCrash'>here</a> for more info. View Jupyter <a href='command:jupyter.viewOutput'>log</a> for further details."
     ]
    }
   ],
   "source": [
    "print(focused_frames)"
   ]
  }
 ],
 "metadata": {
  "kernelspec": {
   "display_name": "Python 3",
   "language": "python",
   "name": "python3"
  },
  "language_info": {
   "codemirror_mode": {
    "name": "ipython",
    "version": 3
   },
   "file_extension": ".py",
   "mimetype": "text/x-python",
   "name": "python",
   "nbconvert_exporter": "python",
   "pygments_lexer": "ipython3",
   "version": "3.11.1"
  }
 },
 "nbformat": 4,
 "nbformat_minor": 2
}
