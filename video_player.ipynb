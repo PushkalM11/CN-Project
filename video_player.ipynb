{
 "cells": [
  {
   "cell_type": "code",
   "execution_count": 2,
   "metadata": {},
   "outputs": [],
   "source": [
    "import cv2\n",
    "import matplotlib.pyplot as plt\n",
    "from mpl_toolkits.mplot3d import Axes3D"
   ]
  },
  {
   "cell_type": "code",
   "execution_count": 4,
   "metadata": {},
   "outputs": [
    {
     "name": "stdout",
     "output_type": "stream",
     "text": [
      "time, position, color :  4.267, (89, 28), [126 147 166]\n",
      "time, position, color :  4.667, (67, 39), [136 156 170]\n",
      "time, position, color :  4.800, (67, 39), [136 156 170]\n",
      "time, position, color :  5.200, (116, 27), [126 147 166]\n",
      "time, position, color :  5.267, (116, 27), [126 147 166]\n",
      "time, position, color :  5.267, (116, 27), [126 147 166]\n",
      "time, position, color :  5.267, (116, 27), [126 147 166]\n",
      "time, position, color :  5.333, (116, 27), [126 147 166]\n",
      "time, position, color :  6.333, (81, 50), [161 165 178]\n",
      "time, position, color :  6.667, (25, 141), [50 54 67]\n",
      "time, position, color :  6.933, (139, 97), [76 79 88]\n",
      "time, position, color :  7.267, (16, 12), [122 143 162]\n",
      "Interrupt\n"
     ]
    }
   ],
   "source": [
    "from moviepy.editor import VideoFileClip\n",
    "from moviepy.video.io.ffmpeg_writer import FFMPEG_VideoWriter\n",
    "clip = VideoFileClip(\"file.3gp\")\n",
    "focused_frames = clip.preview()\n",
    "#write a line clsoe the window\n",
    "plt.close()"
   ]
  },
  {
   "cell_type": "code",
   "execution_count": 5,
   "metadata": {},
   "outputs": [
    {
     "name": "stdout",
     "output_type": "stream",
     "text": [
      "[{'time': 4.266666666666667, 'position': (89, 28), 'color': array([126, 147, 166], dtype=uint8)}, {'time': 4.666666666666666, 'position': (67, 39), 'color': array([136, 156, 170], dtype=uint8)}, {'time': 4.8, 'position': (67, 39), 'color': array([136, 156, 170], dtype=uint8)}, {'time': 5.199999999999999, 'position': (116, 27), 'color': array([126, 147, 166], dtype=uint8)}, {'time': 5.266666666666667, 'position': (116, 27), 'color': array([126, 147, 166], dtype=uint8)}, {'time': 5.266666666666667, 'position': (116, 27), 'color': array([126, 147, 166], dtype=uint8)}, {'time': 5.266666666666667, 'position': (116, 27), 'color': array([126, 147, 166], dtype=uint8)}, {'time': 5.333333333333333, 'position': (116, 27), 'color': array([126, 147, 166], dtype=uint8)}, {'time': 6.333333333333333, 'position': (81, 50), 'color': array([161, 165, 178], dtype=uint8)}, {'time': 6.666666666666666, 'position': (25, 141), 'color': array([50, 54, 67], dtype=uint8)}, {'time': 6.933333333333333, 'position': (139, 97), 'color': array([76, 79, 88], dtype=uint8)}, {'time': 7.266666666666667, 'position': (16, 12), 'color': array([122, 143, 162], dtype=uint8)}]\n"
     ]
    }
   ],
   "source": [
    "print(focused_frames)"
   ]
  }
 ],
 "metadata": {
  "kernelspec": {
   "display_name": "Python 3",
   "language": "python",
   "name": "python3"
  },
  "language_info": {
   "codemirror_mode": {
    "name": "ipython",
    "version": 3
   },
   "file_extension": ".py",
   "mimetype": "text/x-python",
   "name": "python",
   "nbconvert_exporter": "python",
   "pygments_lexer": "ipython3",
   "version": "3.11.1"
  }
 },
 "nbformat": 4,
 "nbformat_minor": 2
}
