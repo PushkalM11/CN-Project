{
 "cells": [
  {
   "cell_type": "code",
   "execution_count": null,
   "metadata": {},
   "outputs": [],
   "source": [
    "import cv2\n",
    "import numpy as np\n",
    "import matplotlib.pyplot as plt\n",
    "from convert import fisheyeImgConv"
   ]
  },
  {
   "cell_type": "code",
   "execution_count": null,
   "metadata": {},
   "outputs": [],
   "source": [
    "def convert_image(frame, params):\n",
    "    mapper = fisheyeImgConv()\n",
    "    FOV, Theta, Phi, output_shape = params\n",
    "    Hd, Wd = output_shape\n",
    "    return mapper.eqruirect2persp(frame, FOV, Theta, Phi, Hd, Wd)"
   ]
  },
  {
   "cell_type": "code",
   "execution_count": null,
   "metadata": {},
   "outputs": [],
   "source": [
    "FOV = 75\n",
    "Theta = 0\n",
    "Phi = 0\n",
    "out_shape = [300, 533]\n",
    "params = [FOV, Theta, Phi, out_shape]"
   ]
  },
  {
   "cell_type": "code",
   "execution_count": null,
   "metadata": {},
   "outputs": [],
   "source": [
    "cap = cv2.VideoCapture(\"./Video examples/London_bridge.mp4\")\n",
    "\n",
    "n_frames = int(cap.get(cv2.CAP_PROP_FRAME_COUNT))\n",
    "n_rotations = 3\n",
    "diff_theta = n_rotations * 360 / n_frames\n",
    "i = 0\n",
    "\n",
    "while(cap.isOpened()):\n",
    "    ret, frame = cap.read()\n",
    "    if ret == True:\n",
    "        Theta += diff_theta\n",
    "        params = [FOV, Theta, Phi, out_shape]\n",
    "        processed_frame = convert_image(frame, params)\n",
    "        \n",
    "        cv2.imshow('Original', processed_frame)\n",
    "\n",
    "        i += 1\n",
    "        if cv2.waitKey(1) & 0xFF == ord('q'):\n",
    "            break\n",
    "    else:\n",
    "        break\n",
    "\n",
    "cv2.destroyAllWindows()\n",
    "cap.release()"
   ]
  }
 ],
 "metadata": {
  "kernelspec": {
   "display_name": "Python 3 (ipykernel)",
   "language": "python",
   "name": "python3"
  },
  "language_info": {
   "codemirror_mode": {
    "name": "ipython",
    "version": 3
   },
   "file_extension": ".py",
   "mimetype": "text/x-python",
   "name": "python",
   "nbconvert_exporter": "python",
   "pygments_lexer": "ipython3",
   "version": "3.11.5"
  }
 },
 "nbformat": 4,
 "nbformat_minor": 4
}
