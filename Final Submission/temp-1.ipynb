{
 "cells": [
  {
   "cell_type": "code",
   "execution_count": 4,
   "metadata": {},
   "outputs": [],
   "source": [
    "import cv2\n",
    "import numpy as np"
   ]
  },
  {
   "cell_type": "code",
   "execution_count": 145,
   "metadata": {},
   "outputs": [
    {
     "name": "stdout",
     "output_type": "stream",
     "text": [
      "<class 'numpy.ndarray'>\n",
      "(720, 1280, 3)\n"
     ]
    }
   ],
   "source": [
    "cap = cv2.VideoCapture(\"assets/test.mp4\")\n",
    "frame = None\n",
    "while(cap.isOpened()):\n",
    "    ret, frame = cap.read()\n",
    "    if ret == True:\n",
    "        # concatinate frame horizontally\n",
    "        print(type(frame))\n",
    "        print(frame.shape)\n",
    "        cv2.imshow('frame', frame)\n",
    "        break\n",
    "        if cv2.waitKey(1) & 0xFF == ord('q'):\n",
    "            break\n",
    "    else:\n",
    "        break\n",
    "\n",
    "cv2.destroyAllWindows()\n",
    "cap.release()\n"
   ]
  },
  {
   "cell_type": "code",
   "execution_count": 144,
   "metadata": {},
   "outputs": [
    {
     "ename": "AttributeError",
     "evalue": "'numpy.ndarray' object has no attribute 'to_bytes'",
     "output_type": "error",
     "traceback": [
      "\u001b[0;31m---------------------------------------------------------------------------\u001b[0m",
      "\u001b[0;31mAttributeError\u001b[0m                            Traceback (most recent call last)",
      "\u001b[1;32m/home/sourabh/CN_project/quic-v-stream/temp-1.ipynb Cell 3\u001b[0m line \u001b[0;36m2\n\u001b[1;32m      <a href='vscode-notebook-cell:/home/sourabh/CN_project/quic-v-stream/temp-1.ipynb#W3sZmlsZQ%3D%3D?line=0'>1</a>\u001b[0m frame \u001b[39m=\u001b[39m frame\u001b[39m.\u001b[39mreshape(\u001b[39m-\u001b[39m\u001b[39m1\u001b[39m)\n\u001b[0;32m----> <a href='vscode-notebook-cell:/home/sourabh/CN_project/quic-v-stream/temp-1.ipynb#W3sZmlsZQ%3D%3D?line=1'>2</a>\u001b[0m encoded_frame \u001b[39m=\u001b[39m frame\u001b[39m.\u001b[39;49mto_bytes()\n\u001b[1;32m      <a href='vscode-notebook-cell:/home/sourabh/CN_project/quic-v-stream/temp-1.ipynb#W3sZmlsZQ%3D%3D?line=2'>3</a>\u001b[0m decoded_frame \u001b[39m=\u001b[39m encoded_frame\u001b[39m.\u001b[39mdecode()\n\u001b[1;32m      <a href='vscode-notebook-cell:/home/sourabh/CN_project/quic-v-stream/temp-1.ipynb#W3sZmlsZQ%3D%3D?line=3'>4</a>\u001b[0m decoded_frame \u001b[39m=\u001b[39m decoded_frame[\u001b[39m2\u001b[39m:\u001b[39m-\u001b[39m\u001b[39m1\u001b[39m]\n",
      "\u001b[0;31mAttributeError\u001b[0m: 'numpy.ndarray' object has no attribute 'to_bytes'"
     ]
    }
   ],
   "source": [
    "# frame = frame.reshape(-1)\n",
    "# encoded_frame = frame.to_bytes()\n",
    "# decoded_frame = encoded_frame.decode()\n",
    "# decoded_frame = decoded_frame[2:-1]\n",
    "# decoded_frame = decoded_frame.replace(\"  \", \"\")\n",
    "# decoded_frame = decoded_frame.replace(\" \", \",\")\n",
    "# decoded_frame = np.array(decoded_frame.split(\",\"))\n",
    "# decoded_frame"
   ]
  },
  {
   "cell_type": "code",
   "execution_count": 49,
   "metadata": {},
   "outputs": [
    {
     "name": "stdout",
     "output_type": "stream",
     "text": [
      "[3 4]\n"
     ]
    }
   ],
   "source": [
    "# convert fraen to bytes\n"
   ]
  },
  {
   "cell_type": "code",
   "execution_count": 65,
   "metadata": {},
   "outputs": [
    {
     "ename": "ValueError",
     "evalue": "cannot reshape array of size 1 into shape (3,3,3)",
     "output_type": "error",
     "traceback": [
      "\u001b[0;31m---------------------------------------------------------------------------\u001b[0m",
      "\u001b[0;31mValueError\u001b[0m                                Traceback (most recent call last)",
      "\u001b[1;32m/home/sourabh/CN_project/quic-v-stream/temp-1.ipynb Cell 7\u001b[0m line \u001b[0;36m1\n\u001b[1;32m      <a href='vscode-notebook-cell:/home/sourabh/CN_project/quic-v-stream/temp-1.ipynb#X11sZmlsZQ%3D%3D?line=8'>9</a>\u001b[0m \u001b[39m# Reshape the array to the correct shape\u001b[39;00m\n\u001b[1;32m     <a href='vscode-notebook-cell:/home/sourabh/CN_project/quic-v-stream/temp-1.ipynb#X11sZmlsZQ%3D%3D?line=9'>10</a>\u001b[0m desired_shape \u001b[39m=\u001b[39m (\u001b[39m3\u001b[39m, \u001b[39m3\u001b[39m, \u001b[39m3\u001b[39m)  \u001b[39m# Adjust the shape based on your data\u001b[39;00m\n\u001b[0;32m---> <a href='vscode-notebook-cell:/home/sourabh/CN_project/quic-v-stream/temp-1.ipynb#X11sZmlsZQ%3D%3D?line=10'>11</a>\u001b[0m numpy_array \u001b[39m=\u001b[39m numpy_array\u001b[39m.\u001b[39;49mreshape(desired_shape)\n\u001b[1;32m     <a href='vscode-notebook-cell:/home/sourabh/CN_project/quic-v-stream/temp-1.ipynb#X11sZmlsZQ%3D%3D?line=12'>13</a>\u001b[0m \u001b[39m# Print the resulting NumPy array\u001b[39;00m\n\u001b[1;32m     <a href='vscode-notebook-cell:/home/sourabh/CN_project/quic-v-stream/temp-1.ipynb#X11sZmlsZQ%3D%3D?line=13'>14</a>\u001b[0m \u001b[39mprint\u001b[39m(numpy_array)\n",
      "\u001b[0;31mValueError\u001b[0m: cannot reshape array of size 1 into shape (3,3,3)"
     ]
    }
   ],
   "source": [
    "array_string = '[[[1,2,3],[4,5,6],[7,8,9]],[[10,11,12],[13,14,15],[16,17,18]],[[19,20,21],[22,23,24],[25,26,27]]]]]'\n",
    "cleaned_string = array_string.replace('\\n', '').replace('[', '').replace(']', '').replace(',', '')\n",
    "numpy_array = np.fromstring(cleaned_string, sep=' ')"
   ]
  },
  {
   "cell_type": "code",
   "execution_count": 3,
   "metadata": {},
   "outputs": [
    {
     "name": "stdout",
     "output_type": "stream",
     "text": [
      "5\n",
      "0\n"
     ]
    }
   ],
   "source": [
    "tmp = 0\n",
    "\n",
    "class xxx:\n",
    "    def __init__(self):\n",
    "        self.frame = None\n",
    "\n",
    "    def read(self):\n",
    "        return tmp\n",
    "\n",
    "\n",
    "class VideoStream:\n",
    "    def __init__(self):\n",
    "        self.frame = None\n",
    "\n",
    "    def read(self):\n",
    "        tmp = 5\n",
    "        return tmp\n",
    "\n",
    "c = VideoStream()\n",
    "print(c.read())\n",
    "c = xxx()\n",
    "print(c.read())"
   ]
  },
  {
   "cell_type": "code",
   "execution_count": 4,
   "metadata": {},
   "outputs": [
    {
     "name": "stdout",
     "output_type": "stream",
     "text": [
      "3\n",
      "2\n"
     ]
    }
   ],
   "source": [
    "class ClassA(object):\n",
    "    var1 = 0\n",
    "    var2 = 0\n",
    "    def __init__(self):\n",
    "        ClassA.var1 = 1\n",
    "        ClassA.var2 = 2\n",
    "\n",
    "    def methodA(self):\n",
    "        ClassA.var1 = ClassA.var1 + ClassA.var2\n",
    "        return ClassA.var1\n",
    "\n",
    "\n",
    "\n",
    "class ClassB(ClassA):\n",
    "    def __init__(self):\n",
    "        print (ClassA.var1)\n",
    "        print (ClassA.var2)\n",
    "\n",
    "object1 = ClassA()\n",
    "sum = object1.methodA()\n",
    "object2 = ClassB()\n"
   ]
  },
  {
   "cell_type": "code",
   "execution_count": 8,
   "metadata": {},
   "outputs": [
    {
     "name": "stdout",
     "output_type": "stream",
     "text": [
      "0\n"
     ]
    }
   ],
   "source": [
    "class Class1:\n",
    "    shared_variable = 0\n",
    "\n",
    "    def update_variable(self, new_value):\n",
    "        self.shared_variable = new_value\n",
    "\n",
    "class Class2:\n",
    "\n",
    "    def use_updated_value(self):\n",
    "        return Class1.shared_variable\n",
    "\n",
    "instance1 = Class1()\n",
    "instance2 = Class2()\n",
    "\n",
    "instance1.update_variable(42)\n",
    "instance2.use_updated_value()\n",
    "\n",
    "print(instance2.use_updated_value())"
   ]
  },
  {
   "cell_type": "code",
   "execution_count": null,
   "metadata": {},
   "outputs": [],
   "source": []
  }
 ],
 "metadata": {
  "kernelspec": {
   "display_name": "Python 3",
   "language": "python",
   "name": "python3"
  },
  "language_info": {
   "codemirror_mode": {
    "name": "ipython",
    "version": 3
   },
   "file_extension": ".py",
   "mimetype": "text/x-python",
   "name": "python",
   "nbconvert_exporter": "python",
   "pygments_lexer": "ipython3",
   "version": "3.10.12"
  }
 },
 "nbformat": 4,
 "nbformat_minor": 2
}
